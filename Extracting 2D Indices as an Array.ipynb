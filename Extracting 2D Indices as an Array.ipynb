{
 "cells": [
  {
   "cell_type": "code",
   "execution_count": 1,
   "id": "783ca9d3",
   "metadata": {},
   "outputs": [],
   "source": [
    "import os\n",
    "import matplotlib as mpl\n",
    "import matplotlib.pyplot as plt\n",
    "import numpy as np\n",
    "import pandas as pd\n",
    "from pyhdf.SD import SD, SDC\n",
    "import os"
   ]
  },
  {
   "cell_type": "code",
   "execution_count": 3,
   "id": "be1d815e",
   "metadata": {},
   "outputs": [],
   "source": [
    "a = np.array([[1,2,3],   [4,5,6],   [7,8,9]])\n",
    "b = np.array([[11,22,33],[44,55,66],[14,15,16]])\n",
    "c = np.array([[0,1,2],   [4,5,6],   [88,99,77]])"
   ]
  },
  {
   "cell_type": "code",
   "execution_count": null,
   "id": "b7b00ba7",
   "metadata": {},
   "outputs": [],
   "source": [
    "# rang = np.array(np.where((a <=2)))"
   ]
  },
  {
   "cell_type": "code",
   "execution_count": null,
   "id": "1edacaa1",
   "metadata": {},
   "outputs": [],
   "source": [
    "# rang1 = zip(np.where(np.logical_and(a>=6, a<=10)))"
   ]
  },
  {
   "cell_type": "code",
   "execution_count": 4,
   "id": "8460dd70",
   "metadata": {},
   "outputs": [],
   "source": [
    "rang2 = np.argwhere((a>=6) & (a<=10))"
   ]
  },
  {
   "cell_type": "code",
   "execution_count": 5,
   "id": "ba45160e",
   "metadata": {},
   "outputs": [],
   "source": [
    "rang22 = np.argwhere((b>=14) & (b<=16))"
   ]
  },
  {
   "cell_type": "code",
   "execution_count": null,
   "id": "ffafe71a",
   "metadata": {},
   "outputs": [],
   "source": [
    "# rang1 = np.argwhere((a>=6) & (a<=10))"
   ]
  },
  {
   "cell_type": "code",
   "execution_count": null,
   "id": "606cfe50",
   "metadata": {},
   "outputs": [],
   "source": [
    "rang22"
   ]
  },
  {
   "cell_type": "code",
   "execution_count": null,
   "id": "007711cb",
   "metadata": {},
   "outputs": [],
   "source": [
    "rang2"
   ]
  },
  {
   "cell_type": "code",
   "execution_count": 6,
   "id": "ffa858c3",
   "metadata": {},
   "outputs": [],
   "source": [
    "def matching_rows(rang22,rang2):\n",
    "  matches=[i for i in range(rang2.shape[0]) if np.any(np.all(rang22==rang2[i],axis=1))]\n",
    "  if len(matches)==0:\n",
    "    return rang2[matches]\n",
    "  return np.unique(rang2[matches],axis=0)"
   ]
  },
  {
   "cell_type": "code",
   "execution_count": 7,
   "id": "36d23608",
   "metadata": {},
   "outputs": [
    {
     "data": {
      "text/plain": [
       "array([[2, 0],\n",
       "       [2, 1],\n",
       "       [2, 2]], dtype=int64)"
      ]
     },
     "execution_count": 7,
     "metadata": {},
     "output_type": "execute_result"
    }
   ],
   "source": [
    "matching_rows(rang22,rang2)"
   ]
  },
  {
   "cell_type": "code",
   "execution_count": null,
   "id": "d0cf0e84",
   "metadata": {},
   "outputs": [],
   "source": []
  }
 ],
 "metadata": {
  "kernelspec": {
   "display_name": "Python 3 (ipykernel)",
   "language": "python",
   "name": "python3"
  },
  "language_info": {
   "codemirror_mode": {
    "name": "ipython",
    "version": 3
   },
   "file_extension": ".py",
   "mimetype": "text/x-python",
   "name": "python",
   "nbconvert_exporter": "python",
   "pygments_lexer": "ipython3",
   "version": "3.9.7"
  },
  "varInspector": {
   "cols": {
    "lenName": 16,
    "lenType": 16,
    "lenVar": 40
   },
   "kernels_config": {
    "python": {
     "delete_cmd_postfix": "",
     "delete_cmd_prefix": "del ",
     "library": "var_list.py",
     "varRefreshCmd": "print(var_dic_list())"
    },
    "r": {
     "delete_cmd_postfix": ") ",
     "delete_cmd_prefix": "rm(",
     "library": "var_list.r",
     "varRefreshCmd": "cat(var_dic_list()) "
    }
   },
   "types_to_exclude": [
    "module",
    "function",
    "builtin_function_or_method",
    "instance",
    "_Feature"
   ],
   "window_display": false
  }
 },
 "nbformat": 4,
 "nbformat_minor": 5
}
